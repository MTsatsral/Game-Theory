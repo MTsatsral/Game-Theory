{
 "cells": [
  {
   "cell_type": "markdown",
   "metadata": {},
   "source": [
    "# Nash Equilibria Computation\n",
    "\n",
    "#### Homework 2 - Tsatsral Mendsuren, Didier Merk\n",
    "\n",
    "In this notebook we will give a short demonstration of the program we have in python, which computes all (mixed and pure) Nash Equilibria of a given normal-form game with two players and two actions per player. The program works in all cases where there is a finite amount of Nash Equilibria. In the report of the homework a brief discussion is included, describing what would be required to turn this into a general solution."
   ]
  },
  {
   "cell_type": "code",
   "execution_count": 12,
   "metadata": {},
   "outputs": [],
   "source": [
    "# importing the correct packages\n",
    "import numpy as np\n",
    "from fractions import Fraction"
   ]
  },
  {
   "cell_type": "markdown",
   "metadata": {},
   "source": [
    "#### The normal-form game\n",
    "\n",
    "The template code in this notebook can be used to calculate all Nash equilibria for any normal-form game consisting of two players and two actions for each player. In this report, as an example, we will make use of the normal-form game shown in figure 1. \n",
    "\n",
    "To input a normal-form game we make use of two numpy arrays ```u_1``` and ```u_2```: each matrix contains the utilities of a specific player for all possible action profiles.\n",
    "\n",
    "<figure>\n",
    "    <img src=\"notebook_equilibrium.png\" width=\"20%\" height=\"20%\" alt=\"This is an alt\">\n",
    "    <center><figcaption>Figure 1: Two player normal-form game</figcaption></center>\n",
    "</figure>\n",
    "\n"
   ]
  },
  {
   "cell_type": "code",
   "execution_count": 13,
   "metadata": {},
   "outputs": [],
   "source": [
    "# Utility matrices for both players (top-left, top-right, bottom-left, bottom-right)\n",
    "\n",
    "# player 1 (row player)\n",
    "u_1 = np.array([[-10, 3], [0, -2]])\n",
    "# u_1 = np.array([[5, 6], [2, 9]]) # example a in report\n",
    "# u_1 = np.array([[1, 2], [2, 1]]) # example b in report\n",
    "# u_1 = np.array([[2, 4], [4, 6]]) # example c in report\n",
    "# u_1 = np.array([[4, 6], [6, 1]]) # example d in report\n",
    "\n",
    "# player 2 (column player)\n",
    "u_2 = np.array([[-10, 0], [3, -2]])\n",
    "# u_2 = np.array([[9, 3], [2, 5]]) # example a in report\n",
    "# u_2 = np.array([[2, 1], [1, 2]]) # example b in report\n",
    "# u_2 = np.array([[2, 4], [4, 6]]) # example c in report\n",
    "# u_2 = np.array([[7, 3], [3, 3]]) # example d in report"
   ]
  },
  {
   "cell_type": "markdown",
   "metadata": {},
   "source": [
    "#### Pure Nash equilibria\n",
    "\n",
    "Pure Nash equilibria occur when no player has an incentive to unilaterally deviate from her action, given the actions of the other players. Intuitively, in our two player normal-form game this means that given the action of the other player, a player would not change his action. Looking back at figure 1 for example, assuming that the <span style=\"color:darkcyan\">column</span> player plays action <span style=\"color:darkcyan\">S</span>, we know that the <span style=\"color:darkred\">row</span> player does not want to swap from his action when it plays <span style=\"color:darkred\">D</span>, because swapping would lower their utility.\n",
    "\n",
    "In our two player-normal form game, we can therefore check whether players have an incentive to unilaterally deviate from their assigned strategy. This can be done by checking for the <span style=\"color:darkred\">row</span> player if the utility of a certain action profile is at least as high or higher than the other utilities in its column (since we are given the action of the <span style=\"color:darkcyan\">column</span> player). For the <span style=\"color:darkcyan\">column</span> player we can check if the utility of a certain action profile is at least as high or higher than the other utilities in its row (since we are given the action of the <span style=\"color:darkred\">row</span> player).\n",
    "\n",
    "If, for a specific action profile, it is the case that no player wants to unilaterally switch, we have found a pure Nash equilibrium. The function below does exactly this, and outputs a list containing all Nash equilibria found in a two-player normal-form game. Each element of the list looks as follows (<span style=\"color:darkred\">p</span>, <span style=\"color:darkcyan\">q</span>), where <span style=\"color:darkred\">p</span> indicates the probability of the first player, playing its first action (<span style=\"color:darkred\">D</span> in our example); <span style=\"color:darkcyan\">q</span> indicates the probability of the second player, playing its first action (also <span style=\"color:darkcyan\">D</span> in our example)."
   ]
  },
  {
   "cell_type": "code",
   "execution_count": 14,
   "metadata": {},
   "outputs": [],
   "source": [
    "# Function that generates a list of all pure Nash equilibria\n",
    "\n",
    "def pure_NEs(u_1, u_2):\n",
    "    # retrieve the size of the game\n",
    "    game_size = u_1.shape\n",
    "    \n",
    "    # initialize a list to store pure NEs in\n",
    "    pure_NE_list = []\n",
    "    \n",
    "    # loop over all the cells in the two player normal form game\n",
    "    for row in range(game_size[0]):\n",
    "        for col in range(game_size[1]):  \n",
    "            # when both players DONT want to unilaterally switch\n",
    "            if u_2[row][col] == u_2[row].max() and u_1[row][col] == u_1[:, col].max():\n",
    "                # append the found NE\n",
    "                pure_NE_list.append((1 - row, 1 - col)) \n",
    "                \n",
    "    return pure_NE_list"
   ]
  },
  {
   "cell_type": "markdown",
   "metadata": {},
   "source": [
    "#### Mixed Nash equilibria\n",
    "\n",
    "In addition to checking for pure Nash equilibria, we also need to check the existence of mixed Nash equilibria. In mixed strategies, it is now possible for players to play any action with a certain probability. When no player wants to unilaterally deviate from their mixed strategy, we have found a mixed Nash equilibrium.\n",
    "\n",
    "To find these mixed Nash equilibria we want to find the strategies in which each player is indifferent about their actions. We can calculate this using the formula on slide 11 of lecture 2, where we find the values for <span style=\"color:darkred\">p</span> and <span style=\"color:darkcyan\">q</span> that cause the same expected utility between actions for each player:\n",
    "\n",
    "<figure>\n",
    "    <img src=\"mixed_equilibrium.png\" width=\"20%\" height=\"20%\" alt=\"This is an alt\">\n",
    "    <center><figcaption>Figure 2: Two player normal-form game</figcaption></center>\n",
    "</figure>\n",
    "\n",
    "Take the normal-form game in figure 2 above. For player 2, the <span style=\"color:darkcyan\">column</span> player, to be indifferent the expected utilities of both actions should be equal. We can find the value of <span style=\"color:darkred\">p</span> as follows:\n",
    "\n",
    "$$ a \\cdot p + c \\cdot (1 - p) = b \\cdot p + d \\cdot (1 - p) \\\\\n",
    "a \\cdot p - c \\cdot p + c = b \\cdot p - d \\cdot p + d \\\\\n",
    "(a - c) \\cdot p + c = (b - d) \\cdot p + d \\\\ \n",
    "(a - b - c + d) \\cdot p = d - c \\\\\n",
    "p = \\frac{d - c}{a - b - c + d} $$\n",
    "\n",
    "In a similar way we can find the value of <span style=\"color:darkcyan\">q</span>, for the <span style=\"color:darkred\">row</span> player to be indifferent:\n",
    "\n",
    "$$ q = \\frac{h - f}{e - f - g + h} $$\n",
    "\n",
    "When we find these possible values for <span style=\"color:darkred\">p</span> and <span style=\"color:darkcyan\">q</span>, we find the mixed Nash equilibria. However, there are some strange cases, which occur when the denominator is 0. We can not devide by zero, therefore we need to intuitively understand what is happening. When the denominator equals zero ($ a - b - c + d = 0 $) it means that $a - c = b - d$. There are now three scenarios:\n",
    "\n",
    "* $a = b$: When a is equal than b, according to our formula above it means that $a = b = c = d$, meaning we have a utility matrix in which all values are the same for a player. In this scenario the player is always indifferent and his strategy can take on any value.\n",
    "* $a > b$: When a is larger than b, it means that c must be larger than d. In this scenario a and c are both larger than b and d, when we look at the normal-form game above, this means that there is a dominant strategy, the <span style=\"color:darkcyan\">column</span> player will always choose to play <span style=\"color:darkcyan\">L</span>, since it always yields higher utility. Therefore q is equal to 1.\n",
    "* $a < b$: Similar to the statement above, when a is smaller than b, we find that there is a dominant strategy where the <span style=\"color:darkcyan\">column</span> player will always choose to play <span style=\"color:darkcyan\">R</span>, and therefore q is equal to 0.\n",
    "\n",
    "The final step in this code we have to take is the case where, in the way the code is written, either one of <span style=\"color:darkred\">p</span> and <span style=\"color:darkcyan\">q</span> does not get initialized. This is the case when one player has a denominator that is 0, and the other player does not. This means that a player has a strictly dominant strategy, and the other player will always respond to this, meaning the only Nash equilibria present will be pure."
   ]
  },
  {
   "cell_type": "code",
   "execution_count": 15,
   "metadata": {},
   "outputs": [],
   "source": [
    "# Function that finds the mixed Nash equilibrium\n",
    "\n",
    "def mixed_NEs(u_1, u_2): \n",
    "    # player 2 (column player) to be indifferent\n",
    "    num_p = (u_2[1][1] - u_2[1][0]) #numerator (d - c)\n",
    "    den_p = (u_2[0][0] - u_2[1][0] - u_2[0][1] + u_2[1][1]) #denominator (a - b - c + d)\n",
    "    \n",
    "    # player 1 (row player) to be indifferent\n",
    "    num_q = (u_1[1][1] - u_1[0][1]) # (h - f)\n",
    "    den_q = (u_1[0][0] - u_1[1][0] - u_1[0][1] + u_1[1][1]) # (e - f - g + h)\n",
    "    \n",
    "    # denominator is 0 for player 2 (column player)\n",
    "    if den_p == 0:\n",
    "        if u_2[0][0] == u_2[0][1]:\n",
    "            q = 'q can be any value ∈ [0, 1]' # does not matter what she does\n",
    "        elif u_2[0][0] > u_2[0][1]:\n",
    "            q = 1\n",
    "        else:\n",
    "            q = 0\n",
    "            \n",
    "    # otherwise p is calculated according to formula\n",
    "    else:\n",
    "        p = num_p / den_p \n",
    "    \n",
    "    # denominator is 0 for player 1 (row player)\n",
    "    if den_q == 0:\n",
    "        if u_1[0][0] == u_1[1][0]:\n",
    "            \n",
    "            p = 'p can be any value ∈ [0, 1]' # does not matter what she does\n",
    "        elif u_1[0][0] > u_1[1][0]:\n",
    "            p = 1\n",
    "        else:\n",
    "            p = 0\n",
    "            \n",
    "    # otherwise q is calculated according to formula\n",
    "    else:\n",
    "        q = num_q / den_q\n",
    "    \n",
    "    # check if the p and q found are not pure NE\n",
    "    if 'p' in locals() and 'q' in locals():\n",
    "        if (p == 0 or p == 1) and (q == 0 or q == 1):\n",
    "            return None # this means it is a pure NE\n",
    "        else:\n",
    "            return p, q # NOT a pure NE\n",
    "        \n",
    "    # This means one player had a strictly dominant strategy, meaning no mixed-strategies\n",
    "    else:\n",
    "        return None"
   ]
  },
  {
   "cell_type": "markdown",
   "metadata": {},
   "source": [
    "#### Outputting the results\n",
    "\n",
    "In the following cell we have written the code to format the output in a readable manner."
   ]
  },
  {
   "cell_type": "code",
   "execution_count": 16,
   "metadata": {},
   "outputs": [
    {
     "name": "stdout",
     "output_type": "stream",
     "text": [
      "***********************************\n",
      "The pure Nash equilibria are:\n",
      "(1, 0)\n",
      "(0, 1)\n",
      "\n",
      "The mixed Nash equilibria are: \n",
      "(1/3, 1/3)\n",
      "***********************************\n"
     ]
    }
   ],
   "source": [
    "# compute the pure NEs\n",
    "pure_eq = pure_NEs(u_1, u_2)\n",
    "\n",
    "# compute the mixed NEs\n",
    "mixed_eq = mixed_NEs(u_1, u_2)\n",
    "\n",
    "# formatted print statements\n",
    "print(\"***********************************\")\n",
    "print(\"The pure Nash equilibria are:\")\n",
    "\n",
    "if len(pure_eq) == 0:\n",
    "    print(\"No pure Nash equilibria found!\")\n",
    "else:\n",
    "    for i in range(len(pure_eq)):\n",
    "        print(pure_eq[i])\n",
    "    \n",
    "print(\"\")\n",
    "print(\"The mixed Nash equilibria are: \")\n",
    "\n",
    "if mixed_eq is None:\n",
    "    print(\"No mixed Nash equilibria found!\")\n",
    "else:\n",
    "    if type(mixed_eq[0]) == str and type(mixed_eq[1]) != str:\n",
    "        print(f\"({mixed_eq[0]}, {Fraction(mixed_eq[1]).limit_denominator()})\")\n",
    "    elif type(mixed_eq[0]) == str and type(mixed_eq[1]) == str:\n",
    "        print(f\"({mixed_eq[0]}, {mixed_eq[1]})\")\n",
    "    elif type(mixed_eq[0]) != str and type(mixed_eq[1]) == str:\n",
    "        print(f\"({Fraction(mixed_eq[0]).limit_denominator()}, {mixed_eq[1]})\")\n",
    "    else:\n",
    "        print(f\"({Fraction(mixed_eq[0]).limit_denominator()}, {Fraction(mixed_eq[1]).limit_denominator()})\")\n",
    "\n",
    "print(\"***********************************\")"
   ]
  },
  {
   "cell_type": "code",
   "execution_count": null,
   "metadata": {},
   "outputs": [],
   "source": []
  }
 ],
 "metadata": {
  "kernelspec": {
   "display_name": "Python 3",
   "language": "python",
   "name": "python3"
  },
  "language_info": {
   "codemirror_mode": {
    "name": "ipython",
    "version": 3
   },
   "file_extension": ".py",
   "mimetype": "text/x-python",
   "name": "python",
   "nbconvert_exporter": "python",
   "pygments_lexer": "ipython3",
   "version": "3.8.3"
  }
 },
 "nbformat": 4,
 "nbformat_minor": 4
}
